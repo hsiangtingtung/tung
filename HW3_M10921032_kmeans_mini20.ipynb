{
  "nbformat": 4,
  "nbformat_minor": 0,
  "metadata": {
    "colab": {
      "name": "Homework03_mininewsgroups02.ipynb",
      "provenance": [],
      "collapsed_sections": []
    },
    "kernelspec": {
      "name": "python3",
      "display_name": "Python 3"
    }
  },
  "cells": [
    {
      "cell_type": "code",
      "metadata": {
        "id": "BAbUrQ3zU2QY"
      },
      "source": [
        "#匯入模組\r\n",
        "from sklearn import cluster, metrics\r\n",
        "import os\r\n",
        "import time\r\n",
        "import collections"
      ],
      "execution_count": 23,
      "outputs": []
    },
    {
      "cell_type": "code",
      "metadata": {
        "id": "Diruw7OxVAXU"
      },
      "source": [
        "#讀取資料\r\n",
        "original_data = 'drive/My Drive/Yuntech109_1/DataMining/Homework03/mini_newsgroups'\r\n",
        "#取得文件夾下的所有文件名稱\r\n",
        "categories = os.listdir(original_data)"
      ],
      "execution_count": 12,
      "outputs": []
    },
    {
      "cell_type": "code",
      "metadata": {
        "colab": {
          "base_uri": "https://localhost:8080/"
        },
        "id": "fGMmWZ-GYVfw",
        "outputId": "185e3345-dfd7-400b-adb6-0e99b6f220b8"
      },
      "source": [
        "#檢視文件取得的名字\r\n",
        "categories"
      ],
      "execution_count": 13,
      "outputs": [
        {
          "output_type": "execute_result",
          "data": {
            "text/plain": [
              "['talk.politics.guns',\n",
              " 'soc.religion.christian',\n",
              " 'talk.politics.mideast',\n",
              " 'sci.space',\n",
              " 'talk.politics.misc',\n",
              " 'sci.med',\n",
              " 'talk.religion.misc',\n",
              " 'sci.crypt',\n",
              " 'rec.sport.hockey',\n",
              " 'sci.electronics',\n",
              " 'misc.forsale',\n",
              " 'comp.os.ms-windows.misc',\n",
              " 'alt.atheism',\n",
              " 'rec.motorcycles',\n",
              " 'comp.sys.mac.hardware',\n",
              " 'comp.graphics',\n",
              " 'comp.sys.ibm.pc.hardware',\n",
              " 'rec.autos',\n",
              " 'rec.sport.baseball',\n",
              " 'comp.windows.x']"
            ]
          },
          "metadata": {
            "tags": []
          },
          "execution_count": 13
        }
      ]
    },
    {
      "cell_type": "code",
      "metadata": {
        "id": "9MQqlSl8VFY7"
      },
      "source": [
        "#命名\r\n",
        "x = []\r\n",
        "y = []"
      ],
      "execution_count": 14,
      "outputs": []
    },
    {
      "cell_type": "code",
      "metadata": {
        "id": "atSaiHaLb_r3"
      },
      "source": [
        "#取得要分群的資料(x)\r\n",
        "#原始分群的結果(y)\r\n",
        "for categories_name in categories:\r\n",
        "  path = original_data + '/' + categories_name\r\n",
        "  files = os.listdir(path)\r\n",
        "\r\n",
        "  for file in files:\r\n",
        "    if not (os.path.isdir(file)):\r\n",
        "      f = open(path + '/' + file, encoding='latin-1')\r\n",
        "      name = f.read()\r\n",
        "      y.append(categories_name)\r\n",
        "      x.append(name)"
      ],
      "execution_count": 16,
      "outputs": []
    },
    {
      "cell_type": "code",
      "metadata": {
        "colab": {
          "base_uri": "https://localhost:8080/"
        },
        "id": "7d3mReWFWojk",
        "outputId": "6abf298f-0797-4f36-9ba0-3c8ef860ca76"
      },
      "source": [
        "#檢視資料\r\n",
        "print(x)\r\n",
        "print(y)"
      ],
      "execution_count": 18,
      "outputs": [
        {
          "output_type": "stream",
          "text": [
            "IOPub data rate exceeded.\n",
            "The notebook server will temporarily stop sending output\n",
            "to the client in order to avoid crashing it.\n",
            "To change this limit, set the config variable\n",
            "`--NotebookApp.iopub_data_rate_limit`.\n",
            "\n",
            "Current values:\n",
            "NotebookApp.iopub_data_rate_limit=1000000.0 (bytes/sec)\n",
            "NotebookApp.rate_limit_window=3.0 (secs)\n",
            "\n"
          ],
          "name": "stderr"
        }
      ]
    },
    {
      "cell_type": "code",
      "metadata": {
        "id": "_4EzdrLFfDl0"
      },
      "source": [
        "#文字出現的次數\r\n",
        "from sklearn.feature_extraction.text import CountVectorizer\r\n",
        "count_x=CountVectorizer()\r\n",
        "x_counts=count_x.fit_transform(x)"
      ],
      "execution_count": 17,
      "outputs": []
    },
    {
      "cell_type": "code",
      "metadata": {
        "id": "7ejQSpAMfJsC"
      },
      "source": [
        "#文字轉為向量\r\n",
        "from sklearn.feature_extraction.text import TfidfTransformer\r\n",
        "tfidf_transformer=TfidfTransformer()\r\n",
        "x_tfidf=tfidf_transformer.fit_transform(x_counts)"
      ],
      "execution_count": 19,
      "outputs": []
    },
    {
      "cell_type": "code",
      "metadata": {
        "colab": {
          "base_uri": "https://localhost:8080/"
        },
        "id": "FMDaFs9AfMe8",
        "outputId": "624a01f5-123d-4c53-da07-3990b2aa1078"
      },
      "source": [
        "#K-means分群\r\n",
        "#查看分幾群會得到最佳的purity\r\n",
        "ks = range(2, 21)\r\n",
        "for k in ks:\r\n",
        "    KKSTticks=time.clock()\r\n",
        "    kmeans_fit = cluster.KMeans(n_clusters = k).fit(x_tfidf)\r\n",
        "    cluster_labels = kmeans_fit.labels_\r\n",
        "    #計算純度\r\n",
        "    def purity(result,label):    \r\n",
        "        total_num = len(label)\r\n",
        "        cluster_counter = collections.Counter(result)\r\n",
        "        original_counter = collections.Counter(label)\r\n",
        "        t=[]\r\n",
        "        for k in cluster_counter:\r\n",
        "            p_k = []\r\n",
        "            for j in original_counter:\r\n",
        "                 count = 0\r\n",
        "                 for i in range(len(result)):\r\n",
        "                     if result[i] == k and label[i] == j: # 求交集\r\n",
        "                         count += 1\r\n",
        "                 p_k.append(count)\r\n",
        "            temp_t = max(p_k)\r\n",
        "            t.append(temp_t)\r\n",
        "        return sum(t)/total_num\r\n",
        "    #計算每群的績效\r\n",
        "    print('Kmeans績效：',k,'群,')\r\n",
        "    KKEDticks=time.clock()\r\n",
        "    print('Kmeans所花費時間：',KKEDticks-KKSTticks)\r\n",
        "    print('Kmeans純度：',purity(cluster_labels,y))"
      ],
      "execution_count": 20,
      "outputs": [
        {
          "output_type": "stream",
          "text": [
            "Kmeans績效： 2 群, 0.0018271392696755948\n",
            "Kmeans所花費時間： 82.46359000000001\n",
            "Kmeans純度： 0.0905\n",
            "Kmeans績效： 3 群, 0.00024372207473026287\n",
            "Kmeans所花費時間： 101.726868\n",
            "Kmeans純度： 0.114\n",
            "Kmeans績效： 4 群, -1.6511478203362628e-06\n",
            "Kmeans所花費時間： 141.15800200000004\n",
            "Kmeans純度： 0.147\n",
            "Kmeans績效： 5 群, 0.0018531741980039452\n",
            "Kmeans所花費時間： 101.32416799999999\n",
            "Kmeans純度： 0.178\n",
            "Kmeans績效： 6 群, 0.002019003795666312\n",
            "Kmeans所花費時間： 144.341449\n",
            "Kmeans純度： 0.1905\n",
            "Kmeans績效： 7 群, 0.00389539555533398\n",
            "Kmeans所花費時間： 112.3987709999999\n",
            "Kmeans純度： 0.187\n",
            "Kmeans績效： 8 群, 0.002091238266937161\n",
            "Kmeans所花費時間： 121.03018999999995\n",
            "Kmeans純度： 0.2345\n",
            "Kmeans績效： 9 群, 0.0047118258314912285\n",
            "Kmeans所花費時間： 106.244057\n",
            "Kmeans純度： 0.2585\n",
            "Kmeans績效： 10 群, 0.003378461946786342\n",
            "Kmeans所花費時間： 116.40885500000013\n",
            "Kmeans純度： 0.219\n",
            "Kmeans績效： 11 群, 0.005522840605348301\n",
            "Kmeans所花費時間： 120.05297799999994\n",
            "Kmeans純度： 0.274\n",
            "Kmeans績效： 12 群, 0.006717076418714283\n",
            "Kmeans所花費時間： 108.57692799999995\n",
            "Kmeans純度： 0.2385\n",
            "Kmeans績效： 13 群, 0.005070307512105602\n",
            "Kmeans所花費時間： 113.34926899999982\n",
            "Kmeans純度： 0.228\n",
            "Kmeans績效： 14 群, 0.00508854650236949\n",
            "Kmeans所花費時間： 112.97475099999997\n",
            "Kmeans純度： 0.292\n",
            "Kmeans績效： 15 群, 0.004743421128018424\n",
            "Kmeans所花費時間： 119.21590800000013\n",
            "Kmeans純度： 0.276\n",
            "Kmeans績效： 16 群, 0.007144178440008749\n",
            "Kmeans所花費時間： 123.68410500000005\n",
            "Kmeans純度： 0.2655\n",
            "Kmeans績效： 17 群, 0.007324001470929225\n",
            "Kmeans所花費時間： 105.52515300000005\n",
            "Kmeans純度： 0.269\n",
            "Kmeans績效： 18 群, 0.008774817449540824\n",
            "Kmeans所花費時間： 120.28109900000004\n",
            "Kmeans純度： 0.319\n",
            "Kmeans績效： 19 群, 0.0008890443993397201\n",
            "Kmeans所花費時間： 101.61054999999988\n",
            "Kmeans純度： 0.275\n",
            "Kmeans績效： 20 群, 0.008227816510622045\n",
            "Kmeans所花費時間： 117.73159399999986\n",
            "Kmeans純度： 0.3005\n"
          ],
          "name": "stdout"
        }
      ]
    }
  ]
}