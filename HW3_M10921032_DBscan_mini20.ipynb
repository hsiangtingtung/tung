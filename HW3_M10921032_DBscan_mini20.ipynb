{
  "nbformat": 4,
  "nbformat_minor": 0,
  "metadata": {
    "colab": {
      "name": "Homework03_mininewsgroups04.ipynb",
      "provenance": [],
      "collapsed_sections": []
    },
    "kernelspec": {
      "name": "python3",
      "display_name": "Python 3"
    }
  },
  "cells": [
    {
      "cell_type": "code",
      "metadata": {
        "id": "gV7rXwtGGtBZ"
      },
      "source": [
        "#匯入模組\r\n",
        "from sklearn import cluster, metrics\r\n",
        "import os\r\n",
        "import time\r\n",
        "import collections"
      ],
      "execution_count": 1,
      "outputs": []
    },
    {
      "cell_type": "code",
      "metadata": {
        "id": "jeQaxz9lGxfO"
      },
      "source": [
        "#讀取資料\r\n",
        "original_data = 'drive/My Drive/Yuntech109_1/DataMining/Homework03/mini_newsgroups'\r\n",
        "#取得文件夾下的所有文件名稱\r\n",
        "categories = os.listdir(original_data)"
      ],
      "execution_count": 4,
      "outputs": []
    },
    {
      "cell_type": "code",
      "metadata": {
        "colab": {
          "base_uri": "https://localhost:8080/"
        },
        "id": "yYXHTc-OGyvw",
        "outputId": "969d32e5-690f-4f5e-86c5-a1ae1d70409b"
      },
      "source": [
        "#檢視文件取得的名字\r\n",
        "categories"
      ],
      "execution_count": 5,
      "outputs": [
        {
          "output_type": "execute_result",
          "data": {
            "text/plain": [
              "['talk.politics.guns',\n",
              " 'soc.religion.christian',\n",
              " 'talk.politics.mideast',\n",
              " 'sci.space',\n",
              " 'talk.politics.misc',\n",
              " 'sci.med',\n",
              " 'talk.religion.misc',\n",
              " 'sci.crypt',\n",
              " 'rec.sport.hockey',\n",
              " 'sci.electronics',\n",
              " 'misc.forsale',\n",
              " 'comp.os.ms-windows.misc',\n",
              " 'alt.atheism',\n",
              " 'rec.motorcycles',\n",
              " 'comp.sys.mac.hardware',\n",
              " 'comp.graphics',\n",
              " 'comp.sys.ibm.pc.hardware',\n",
              " 'rec.autos',\n",
              " 'rec.sport.baseball',\n",
              " 'comp.windows.x']"
            ]
          },
          "metadata": {
            "tags": []
          },
          "execution_count": 5
        }
      ]
    },
    {
      "cell_type": "code",
      "metadata": {
        "id": "lRkoneZ1Gzgv"
      },
      "source": [
        "#命名\r\n",
        "x = []\r\n",
        "y = []"
      ],
      "execution_count": 6,
      "outputs": []
    },
    {
      "cell_type": "code",
      "metadata": {
        "id": "9x4rkG-sG0vl"
      },
      "source": [
        "#取得要分群的資料(x)\r\n",
        "#原始分群的結果(y)\r\n",
        "for categories_name in categories:\r\n",
        "  path = original_data + '/' + categories_name\r\n",
        "  files = os.listdir(path)\r\n",
        "\r\n",
        "  for file in files:\r\n",
        "    if not (os.path.isdir(file)):\r\n",
        "      f = open(path + '/' + file, encoding='latin-1')\r\n",
        "      name = f.read()\r\n",
        "      y.append(categories_name)\r\n",
        "      x.append(name)"
      ],
      "execution_count": 7,
      "outputs": []
    },
    {
      "cell_type": "code",
      "metadata": {
        "colab": {
          "base_uri": "https://localhost:8080/"
        },
        "id": "cJ3bazpQG2cQ",
        "outputId": "373f7976-4d0a-43da-d9bf-51b8e19fab0f"
      },
      "source": [
        "#檢視資料\r\n",
        "print(x)\r\n",
        "print(y)"
      ],
      "execution_count": 8,
      "outputs": [
        {
          "output_type": "stream",
          "text": [
            "IOPub data rate exceeded.\n",
            "The notebook server will temporarily stop sending output\n",
            "to the client in order to avoid crashing it.\n",
            "To change this limit, set the config variable\n",
            "`--NotebookApp.iopub_data_rate_limit`.\n",
            "\n",
            "Current values:\n",
            "NotebookApp.iopub_data_rate_limit=1000000.0 (bytes/sec)\n",
            "NotebookApp.rate_limit_window=3.0 (secs)\n",
            "\n"
          ],
          "name": "stderr"
        }
      ]
    },
    {
      "cell_type": "code",
      "metadata": {
        "id": "z-IypMeYG3dk"
      },
      "source": [
        "#文字出現的次數\r\n",
        "from sklearn.feature_extraction.text import CountVectorizer\r\n",
        "count_x=CountVectorizer()\r\n",
        "x_counts=count_x.fit_transform(x)"
      ],
      "execution_count": 9,
      "outputs": []
    },
    {
      "cell_type": "code",
      "metadata": {
        "id": "g2x6205MG4rD"
      },
      "source": [
        "#文字轉為向量\r\n",
        "from sklearn.feature_extraction.text import TfidfTransformer\r\n",
        "tfidf_transformer=TfidfTransformer()\r\n",
        "x_tfidf=tfidf_transformer.fit_transform(x_counts)"
      ],
      "execution_count": 10,
      "outputs": []
    },
    {
      "cell_type": "code",
      "metadata": {
        "colab": {
          "base_uri": "https://localhost:8080/"
        },
        "id": "BWm7RJXZJQpA",
        "outputId": "3ce2bf0f-5752-4a55-acb5-7e0b6bb39748"
      },
      "source": [
        "from sklearn.cluster import DBSCAN\r\n",
        "\r\n",
        "ks = range(1, 20)\r\n",
        "for k in ks:\r\n",
        "    KKSTticks=time.clock()\r\n",
        "    dbscan=DBSCAN(eps=1,min_samples=k).fit(x_tfidf)\r\n",
        "    cluster_labels = dbscan.labels_\r\n",
        "    #計算純度\r\n",
        "    def purity(result,label):    \r\n",
        "        total_num = len(label)\r\n",
        "        cluster_counter = collections.Counter(result)\r\n",
        "        original_counter = collections.Counter(label)\r\n",
        "        t=[]\r\n",
        "        for k in cluster_counter:\r\n",
        "            p_k = []\r\n",
        "            for j in original_counter:\r\n",
        "                 count = 0\r\n",
        "                 for i in range(len(result)):\r\n",
        "                     if result[i] == k and label[i] == j: # 求交集\r\n",
        "                         count += 1\r\n",
        "                 p_k.append(count)\r\n",
        "            temp_t = max(p_k)\r\n",
        "            t.append(temp_t)\r\n",
        "        return sum(t)/total_num\r\n",
        "    \r\n",
        "    #print(\"eps=1, min_samples=\",k,\")\r\n",
        "    KKEDticks=time.clock()\r\n",
        "    print(\"min_samples=1,DBSCAN所花費時間\",KKEDticks-KKSTticks)\r\n",
        "    print(\"min_samples=1,DBSCAN的純度\", purity(cluster_labels,y))"
      ],
      "execution_count": 13,
      "outputs": [
        {
          "output_type": "stream",
          "text": [
            "min_samples=1,DBSCAN所花費時間 0.6660459999999979\n",
            "min_samples=1,DBSCAN的純度 0.9675\n",
            "min_samples=1,DBSCAN所花費時間 0.5769449999999985\n",
            "min_samples=1,DBSCAN的純度 0.2295\n",
            "min_samples=1,DBSCAN所花費時間 0.5867719999999998\n",
            "min_samples=1,DBSCAN的純度 0.143\n",
            "min_samples=1,DBSCAN所花費時間 0.5907499999999999\n",
            "min_samples=1,DBSCAN的純度 0.09\n",
            "min_samples=1,DBSCAN所花費時間 0.5903470000000013\n",
            "min_samples=1,DBSCAN的純度 0.072\n",
            "min_samples=1,DBSCAN所花費時間 0.5792459999999977\n",
            "min_samples=1,DBSCAN的純度 0.0635\n",
            "min_samples=1,DBSCAN所花費時間 0.5904970000000063\n",
            "min_samples=1,DBSCAN的純度 0.06\n",
            "min_samples=1,DBSCAN所花費時間 0.5772569999999959\n",
            "min_samples=1,DBSCAN的純度 0.05\n",
            "min_samples=1,DBSCAN所花費時間 0.5827979999999968\n",
            "min_samples=1,DBSCAN的純度 0.05\n",
            "min_samples=1,DBSCAN所花費時間 0.5960390000000046\n",
            "min_samples=1,DBSCAN的純度 0.05\n",
            "min_samples=1,DBSCAN所花費時間 0.5848390000000023\n",
            "min_samples=1,DBSCAN的純度 0.05\n",
            "min_samples=1,DBSCAN所花費時間 0.590761999999998\n",
            "min_samples=1,DBSCAN的純度 0.05\n",
            "min_samples=1,DBSCAN所花費時間 0.5823830000000001\n",
            "min_samples=1,DBSCAN的純度 0.05\n",
            "min_samples=1,DBSCAN所花費時間 0.5847440000000006\n",
            "min_samples=1,DBSCAN的純度 0.05\n",
            "min_samples=1,DBSCAN所花費時間 0.5828619999999987\n",
            "min_samples=1,DBSCAN的純度 0.05\n",
            "min_samples=1,DBSCAN所花費時間 0.5830270000000013\n",
            "min_samples=1,DBSCAN的純度 0.05\n",
            "min_samples=1,DBSCAN所花費時間 0.590988000000003\n",
            "min_samples=1,DBSCAN的純度 0.05\n",
            "min_samples=1,DBSCAN所花費時間 0.5861060000000009\n",
            "min_samples=1,DBSCAN的純度 0.05\n",
            "min_samples=1,DBSCAN所花費時間 0.5787989999999965\n",
            "min_samples=1,DBSCAN的純度 0.05\n"
          ],
          "name": "stdout"
        }
      ]
    }
  ]
}