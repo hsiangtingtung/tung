{
  "nbformat": 4,
  "nbformat_minor": 0,
  "metadata": {
    "colab": {
      "name": "DBSCAN facebook",
      "provenance": []
    },
    "kernelspec": {
      "name": "python3",
      "display_name": "Python 3"
    }
  },
  "cells": [
    {
      "cell_type": "code",
      "metadata": {
        "id": "vpXRwXXXzQT3"
      },
      "source": [
        "import csv\r\n",
        "import os, sys\r\n",
        "import matplotlib.pyplot as plt\r\n",
        "import datetime as dt\r\n",
        "import statsmodels.api as sm\r\n",
        "import pandas as pd\r\n",
        "import numpy as np\r\n",
        "import nltk\r\n",
        "import time\r\n",
        "import collections\r\n",
        "plt.style.use('fivethirtyeight')\r\n",
        "from sklearn import datasets\r\n",
        "from sklearn.cluster import DBSCAN\r\n",
        "from sklearn import metrics\r\n",
        "from sklearn.datasets.samples_generator import make_blobs\r\n",
        "from sklearn.preprocessing import StandardScaler\r\n",
        "from sklearn.feature_extraction.text import TfidfVectorizer, TfidfTransformer \r\n",
        "from sklearn.model_selection import train_test_split\r\n",
        "from sklearn.feature_extraction.text import CountVectorizer\r\n",
        "from sklearn.utils.linear_assignment_ import linear_assignment\r\n",
        "from sklearn.metrics import confusion_matrix\r\n",
        "from sklearn import metrics"
      ],
      "execution_count": null,
      "outputs": []
    },
    {
      "cell_type": "code",
      "metadata": {
        "colab": {
          "base_uri": "https://localhost:8080/"
        },
        "id": "50ZNHdvtjXJ5",
        "outputId": "381f6ad3-284a-41d0-ea9c-2187beef09cc"
      },
      "source": [
        "df = pd.read_csv('/content/drive/MyDrive/Live.csv')\r\n",
        "print(df)"
      ],
      "execution_count": null,
      "outputs": [
        {
          "output_type": "stream",
          "text": [
            "     status_type status_published  ...  num_sads  num_angrys\n",
            "0          video   4/22/2018 6:00  ...         1           0\n",
            "1          photo  4/21/2018 22:45  ...         0           0\n",
            "2          video   4/21/2018 6:17  ...         0           0\n",
            "3          photo   4/21/2018 2:29  ...         0           0\n",
            "4          photo   4/18/2018 3:22  ...         0           0\n",
            "...          ...              ...  ...       ...         ...\n",
            "7045       photo   9/24/2016 2:58  ...         0           0\n",
            "7046       photo  9/23/2016 11:19  ...         0           0\n",
            "7047       photo  9/21/2016 23:03  ...         0           0\n",
            "7048       photo   9/20/2016 0:43  ...         0           0\n",
            "7049       photo  9/10/2016 10:30  ...         0           0\n",
            "\n",
            "[7050 rows x 11 columns]\n"
          ],
          "name": "stdout"
        }
      ]
    },
    {
      "cell_type": "code",
      "metadata": {
        "id": "oBpEo1YqnGQB",
        "colab": {
          "base_uri": "https://localhost:8080/"
        },
        "outputId": "488d4de5-9f5c-4d48-c11a-6197109f97bd"
      },
      "source": [
        "#將VIDEO資料轉為數字\r\n",
        "row = ['link','photo','status','video']\r\n",
        "type_df = df['status_type']\r\n",
        "row_type = []\r\n",
        "print (row[1])\r\n",
        "for i in range (0,len(df)):\r\n",
        "  t = df['status_type'][i]\r\n",
        "  if t == row[0]:\r\n",
        "    row_type.append(0)\r\n",
        "  if t == row[1]:\r\n",
        "    row_type.append(1)\r\n",
        "  if t == row[2]:\r\n",
        "    row_type.append(2)\r\n",
        "  if t == row[3]:\r\n",
        "    row_type.append(3)\r\n",
        "\r\n",
        "row_type = np.array(row_type)\r\n",
        "row_type.T\r\n",
        "print(row_type)"
      ],
      "execution_count": null,
      "outputs": [
        {
          "output_type": "stream",
          "text": [
            "photo\n",
            "[3 1 3 ... 1 1 1]\n"
          ],
          "name": "stdout"
        }
      ]
    },
    {
      "cell_type": "code",
      "metadata": {
        "id": "x1RhlcM5CdlH"
      },
      "source": [
        "#將CSV刪除status_type\r\n",
        "df.drop(['status_type'],axis=1,inplace=True)\r\n",
        "#將資料轉換\r\n",
        "df['status_type'] = 0\r\n",
        "df['status_type'] = row_type"
      ],
      "execution_count": null,
      "outputs": []
    },
    {
      "cell_type": "code",
      "metadata": {
        "id": "K7EMXg6lpSPX"
      },
      "source": [
        "count_x=CountVectorizer()\r\n",
        "x_train_counts=count_x.fit_transform(df)"
      ],
      "execution_count": null,
      "outputs": []
    },
    {
      "cell_type": "code",
      "metadata": {
        "id": "H-roKFGwkEQS"
      },
      "source": [
        "tfidf_transformer=TfidfTransformer()\r\n",
        "x_train_tfidf=tfidf_transformer.fit_transform(x_train_counts)  "
      ],
      "execution_count": null,
      "outputs": []
    },
    {
      "cell_type": "code",
      "metadata": {
        "id": "SvZ9IpnQqLxm"
      },
      "source": [
        "dbscan=DBSCAN(eps=1,min_samples=20).fit(x_train_tfidf)\r\n",
        "KKSTticks=time.clock()\r\n",
        "cluster_labels = dbscan.labels_"
      ],
      "execution_count": null,
      "outputs": []
    },
    {
      "cell_type": "code",
      "metadata": {
        "colab": {
          "base_uri": "https://localhost:8080/"
        },
        "id": "UOhY-J8Kf7-9",
        "outputId": "e6315693-10e5-4741-ed05-b1c870c9b17c"
      },
      "source": [
        "def purity(result,label):#計算純度\r\n",
        "  total_num = len(label)\r\n",
        "  cluster_counter = collections.Counter(result)\r\n",
        "  original_counter = collections.Counter(label)\r\n",
        "  t=[]\r\n",
        "  for k in cluster_counter:\r\n",
        "     p_k = []\r\n",
        "     for j in original_counter:\r\n",
        "        count = 0\r\n",
        "        for i in range(len(result)):\r\n",
        "           if result[i] == k and label[i] == j: # 求交集\r\n",
        "             count += 1\r\n",
        "             p_k.append(count)\r\n",
        "             temp_t = max(p_k)\r\n",
        "             t.append(temp_t)\r\n",
        "  return sum(t)/total_num\r\n",
        "print(\"min_samples=1,DBSCAN的純度\", purity(cluster_labels,row_type))"
      ],
      "execution_count": null,
      "outputs": [
        {
          "output_type": "stream",
          "text": [
            "min_samples=1,DBSCAN的純度 0.00624113475177305\n"
          ],
          "name": "stdout"
        }
      ]
    },
    {
      "cell_type": "code",
      "metadata": {
        "colab": {
          "base_uri": "https://localhost:8080/"
        },
        "id": "V_T8LIP3m2eC",
        "outputId": "ef8304a4-30de-4919-b41b-22fcfc1cd3a0"
      },
      "source": [
        "KKEDticks=time.clock()\r\n",
        "print(\"min_samples=1,DBSCAN所花費時間\",KKEDticks-KKSTticks)"
      ],
      "execution_count": null,
      "outputs": [
        {
          "output_type": "stream",
          "text": [
            "min_samples=1,DBSCAN所花費時間 0.023523999999998324\n"
          ],
          "name": "stdout"
        }
      ]
    }
  ]
}